{
 "cells": [
  {
   "cell_type": "code",
   "execution_count": 1,
   "metadata": {},
   "outputs": [],
   "source": [
    "import sys\n",
    "sys.path.append(\"..\")\n",
    "from cloth.neo4j_graph import Neo4jGraphstore as Graphstore\n",
    "\n",
    "\n",
    "graph = Graphstore()"
   ]
  },
  {
   "cell_type": "code",
   "execution_count": 2,
   "metadata": {},
   "outputs": [
    {
     "data": {
      "text/plain": [
       "8"
      ]
     },
     "execution_count": 2,
     "metadata": {},
     "output_type": "execute_result"
    }
   ],
   "source": [
    "# Prepare\n",
    "from langchain.docstore.document import Document\n",
    "from textwrap import dedent\n",
    "text = dedent(\"\"\"\n",
    "The biggest lesson that can be read from 70 years of AI research is that general methods that leverage computation are ultimately the most effective, and by a large margin. The ultimate reason for this is Moore's law, or rather its generalization of continued exponentially falling cost per unit of computation. Most AI research has been conducted as if the computation available to the agent were constant (in which case leveraging human knowledge would be one of the only ways to improve performance) but, over a slightly longer time than a typical research project, massively more computation inevitably becomes available. Seeking an improvement that makes a difference in the shorter term, researchers seek to leverage their human knowledge of the domain, but the only thing that matters in the long run is the leveraging of computation. These two need not run counter to each other, but in practice they tend to. Time spent on one is time not spent on the other. There are psychological commitments to investment in one approach or the other. And the human-knowledge approach tends to complicate methods in ways that make them less suited to taking advantage of general methods leveraging computation.  There were many examples of AI researchers' belated learning of this bitter lesson, and it is instructive to review some of the most prominent.\n",
    ">>\n",
    "In computer chess, the methods that defeated the world champion, Kasparov, in 1997, were based on massive, deep search. At the time, this was looked upon with dismay by the majority of computer-chess researchers who had pursued methods that leveraged human understanding of the special structure of chess. When a simpler, search-based approach with special hardware and software proved vastly more effective, these human-knowledge-based chess researchers were not good losers. They said that ``brute force\" search may have won this time, but it was not a general strategy, and anyway it was not how people played chess. These researchers wanted methods based on human input to win and were disappointed when they did not.\n",
    ">>\n",
    "A similar pattern of research progress was seen in computer Go, only delayed by a further 20 years. Enormous initial efforts went into avoiding search by taking advantage of human knowledge, or of the special features of the game, but all those efforts proved irrelevant, or worse, once search was applied effectively at scale. Also important was the use of learning by self play to learn a value function (as it was in many other games and even in chess, although learning did not play a big role in the 1997 program that first beat a world champion). Learning by self play, and learning in general, is like search in that it enables massive computation to be brought to bear. Search and learning are the two most important classes of techniques for utilizing massive amounts of computation in AI research. In computer Go, as in computer chess, researchers' initial effort was directed towards utilizing human understanding (so that less search was needed) and only much later was much greater success had by embracing search and learning.\n",
    ">>\n",
    "In speech recognition, there was an early competition, sponsored by DARPA, in the 1970s. Entrants included a host of special methods that took advantage of human knowledge---knowledge of words, of phonemes, of the human vocal tract, etc. On the other side were newer methods that were more statistical in nature and did much more computation, based on hidden Markov models (HMMs). Again, the statistical methods won out over the human-knowledge-based methods. This led to a major change in all of natural language processing, gradually over decades, where statistics and computation came to dominate the field. The recent rise of deep learning in speech recognition is the most recent step in this consistent direction. Deep learning methods rely even less on human knowledge, and use even more computation, together with learning on huge training sets, to produce dramatically better speech recognition systems. As in the games, researchers always tried to make systems that worked the way the researchers thought their own minds worked---they tried to put that knowledge in their systems---but it proved ultimately counterproductive, and a colossal waste of researcher's time, when, through Moore's law, massive computation became available and a means was found to put it to good use.\n",
    ">>\n",
    "In computer vision, there has been a similar pattern. Early methods conceived of vision as searching for edges, or generalized cylinders, or in terms of SIFT features. But today all this is discarded. Modern deep-learning neural networks use only the notions of convolution and certain kinds of invariances, and perform much better.\n",
    ">>\n",
    "This is a big lesson. As a field, we still have not thoroughly learned it, as we are continuing to make the same kind of mistakes. To see this, and to effectively resist it, we have to understand the appeal of these mistakes. We have to learn the bitter lesson that building in how we think we think does not work in the long run. The bitter lesson is based on the historical observations that 1) AI researchers have often tried to build knowledge into their agents, 2) this always helps in the short term, and is personally satisfying to the researcher, but 3) in the long run it plateaus and even inhibits further progress, and 4) breakthrough progress eventually arrives by an opposing approach based on scaling computation by search and learning. The eventual success is tinged with bitterness, and often incompletely digested, because it is success over a favored, human-centric approach.\n",
    ">>\n",
    "One thing that should be learned from the bitter lesson is the great power of general purpose methods, of methods that continue to scale with increased computation even as the available computation becomes very great. The two methods that seem to scale arbitrarily in this way are search and learning.\n",
    ">>\n",
    "The second general point to be learned from the bitter lesson is that the actual contents of minds are tremendously, irredeemably complex; we should stop trying to find simple ways to think about the contents of minds, such as simple ways to think about space, objects, multiple agents, or symmetries. All these are part of the arbitrary, intrinsically-complex, outside world. They are not what should be built in, as their complexity is endless; instead we should build in only the meta-methods that can find and capture this arbitrary complexity. Essential to these methods is that they can find good approximations, but the search for them should be by our methods, not by us. We want AI agents that can discover like we can, not which contain what we have discovered. Building in our discoveries only makes it harder to see how the discovering process can be done.\\\n",
    "\"\"\")\n",
    "\n",
    "documents = [Document(page_content=ex.strip()) for ex in text.split(\">>\")]\n",
    "len(documents)\n"
   ]
  },
  {
   "cell_type": "code",
   "execution_count": 5,
   "metadata": {},
   "outputs": [
    {
     "name": "stderr",
     "output_type": "stream",
     "text": [
      "\u001b[34mDEBUG\u001b[0m:    neo4j_graph.py/_extract_relation_streaming -> 8 Relations generated in 12.824895858764648\n"
     ]
    },
    {
     "data": {
      "text/plain": [
       "[[Relation(node_1=Node(id='b81bfc5bcabe010368a05def4a77f6f7e6f5e6915958f5182f5d620fd83fe845', name='AI research', type='Node'), edge=Edge(id='31fa81ba44559b8b1603ee58593515ebcc57aa9ef98d2a03543957e13bafe9ab', name='has been conducted', type='Edge'), node_2=Node(id='fb209e75cfb94344539afe813559f0950250a5ab843fcb30d1231021428d11ac', name='computation', type='Node')),\n",
       "  Relation(node_1=Node(id='adf0f9f4bd8e7ab365b02b8869936df218fcb8f35c1c295a1fafb8bda9f5062b', name=\"Moore's law\", type='Node'), edge=Edge(id='3c0edd82a9196ee56c4b37f6a57186be38baf1b86b0d6c9631d38c33e59541b5', name='is the reason for', type='Edge'), node_2=Node(id='10234fd8efed3ae1da20082fc82d7613df474e28e69de5bd55b86ec4cccc4185', name='exponentially falling cost per unit of computation', type='Node')),\n",
       "  Relation(node_1=Node(id='946c91452420171ab16d3817ca5fb893f508170218012be063588d0056eb9df0', name='human knowledge', type='Node'), edge=Edge(id='a4aea254b1315aa125d84571dd4caf653fd790e872233066f3606433b255b551', name='is leveraged by', type='Edge'), node_2=Node(id='cbf5463cf9a86363ad79785343b9d1d8f25ca5fae12f681d5338728388c5af20', name='AI researchers', type='Node')),\n",
       "  Relation(node_1=Node(id='fb209e75cfb94344539afe813559f0950250a5ab843fcb30d1231021428d11ac', name='computation', type='Node'), edge=Edge(id='a4aea254b1315aa125d84571dd4caf653fd790e872233066f3606433b255b551', name='is leveraged by', type='Edge'), node_2=Node(id='fcf91d883ff6760d3ec56d7d425bea4bfbf3e6a2c36e836a3c0aedb860006c5a', name='general methods', type='Node')),\n",
       "  Relation(node_1=Node(id='067cc109e05cc458ae508b4c9ccf8cea39567e7386345e10454ff85a8f2c04a9', name='human-knowledge approach', type='Node'), edge=Edge(id='fa6d6beb5d80ac0d9fd10ea58bc82a5fb83652e1c6227a387a0ad66666dce640', name='tends to complicate', type='Edge'), node_2=Node(id='3f3867313a9dbfd5be4028e351d67cc7ef77f4b2e3d685104cda3352a602e9cc', name='methods', type='Node')),\n",
       "  Relation(node_1=Node(id='fcf91d883ff6760d3ec56d7d425bea4bfbf3e6a2c36e836a3c0aedb860006c5a', name='general methods', type='Node'), edge=Edge(id='a5bde90b0f3b01be90ece02378c7f3dd589da57c636f7f39da16b96fbb49cc48', name='are suited to', type='Edge'), node_2=Node(id='abc1ce00cd1e2c69a43f80a6923ab7f86ab6d9c938c80c94456a4c91bc4928bc', name='leveraging computation', type='Node')),\n",
       "  Relation(node_1=Node(id='cbf5463cf9a86363ad79785343b9d1d8f25ca5fae12f681d5338728388c5af20', name='AI researchers', type='Node'), edge=Edge(id='d78e3c38d98d17d7355ec4a989e477bace56a6fa2508121a520146cd0a23ec80', name='learned', type='Edge'), node_2=Node(id='787036d0ef8f99bad6549e1200a8eaee24db50b9844dcee9a0d642ca8fce4afe', name='bitter lesson', type='Node'))],\n",
       " [Relation(node_1=Node(id='c52e9d0a2bbc615c4aed1d4b33752d16f986db417355e62b176c6398df32f7f2', name='Computer Chess', type='Node'), edge=Edge(id='dba0450606f5c15c15e2403095389a73c3d01aaccddd71fd10c6926f7502da10', name='is a type of', type='Edge'), node_2=Node(id='c1aade8253979ee2f3959f043676c44454925643d62f6baef75a45afc170b666', name='Chess', type='Node')),\n",
       "  Relation(node_1=Node(id='3cca9b91d3b8ee06560808339e59fe6f253ed8fe69fbd541c7cb566b75c82d04', name='Kasparov', type='Node'), edge=Edge(id='41668f137b3e997de557b249e3744d75710f1bf932bb91f72387781fae3088bb', name='is a', type='Edge'), node_2=Node(id='ea3d743c0ddaf8f2b5e54f0ef8270b250f1becabc11dfe97bdc0949bb9680efe', name='World Champion', type='Node')),\n",
       "  Relation(node_1=Node(id='b13025bdfca3b3b4652e05271a8e0b340805858fa571fa401ee5df56492d6ac4', name='Deep Search', type='Node'), edge=Edge(id='f76c6255656ace6187d3adf826b15d2d98f1439ecb208a5046e67d56769ccdbb', name='is a method of', type='Edge'), node_2=Node(id='c52e9d0a2bbc615c4aed1d4b33752d16f986db417355e62b176c6398df32f7f2', name='Computer Chess', type='Node')),\n",
       "  Relation(node_1=Node(id='7b4869ef463fd039111b7f68db809fdd84e1ee66bf364139c0b2fb065120c1e1', name='Human Understanding', type='Node'), edge=Edge(id='a9c9dae91213c7e4d5eb25c0825179d8431746a61cc8b0d8843dc32d53322295', name='is based on', type='Edge'), node_2=Node(id='2117a338db7e0aa979fd0c35e38e00b0238d1f9147d40f5775bd5480cd3a1402', name='Special Structure of Chess', type='Node')),\n",
       "  Relation(node_1=Node(id='473c5aa541f906634d46163d3bba205d52d42e44d20817a5af9b7470d92ffb06', name='Search-Based Approach', type='Node'), edge=Edge(id='f480ffb2979d188849ef6ddeb7cefe0aec4406a459adc51df4808a3545d7095c', name='uses', type='Edge'), node_2=Node(id='df7b63fb9af5abd76bffc4b77ca9c290c3b02d847baef2cedcaf8f3be488e007', name='Special Hardware and Software', type='Node')),\n",
       "  Relation(node_1=Node(id='c6ba02cc1f506708bf17d496deb6a54fd1cb090f7356b66524dec3436c233296', name='Human-Knowledge-Based Chess Researchers', type='Node'), edge=Edge(id='3c5f8f52db6153521145ccd750ca44da0975ad87ed910359252720edd9728481', name='pursued', type='Edge'), node_2=Node(id='6666061b7d14b2dd561cc9ba962c28f96fc0f286c9fb4f9b0000af8b2493d6ba', name='Methods based on Human Input', type='Node')),\n",
       "  Relation(node_1=Node(id='e8482e66547c14a155853fb39514028f2522d6c0471fb8f1ffd9596dd2951e1b', name='Brute Force Search', type='Node'), edge=Edge(id='dba0450606f5c15c15e2403095389a73c3d01aaccddd71fd10c6926f7502da10', name='is a type of', type='Edge'), node_2=Node(id='473c5aa541f906634d46163d3bba205d52d42e44d20817a5af9b7470d92ffb06', name='Search-Based Approach', type='Node'))],\n",
       " [Relation(node_1=Node(id='67772e38784f9bd8a66a5b126169d6c02a7f612d3b25d0d45d68ecde6578bc36', name='Computer Go', type='Node'), edge=Edge(id='dba0450606f5c15c15e2403095389a73c3d01aaccddd71fd10c6926f7502da10', name='is a type of', type='Edge'), node_2=Node(id='5c412a262086b9701cda06302f6667f9265b1807d0368fcec6cc03bf64fc250b', name='Game', type='Node')),\n",
       "  Relation(node_1=Node(id='63158218a6b8ea29bfb465c263af15671f8198e16bb1605370e9480ea43e8f08', name='Human Knowledge', type='Node'), edge=Edge(id='c5a0ac06aa4c4da5670bfcd99085ec19650221bc7c206c5b0bd6a7f31d0a04c0', name='was utilized in', type='Edge'), node_2=Node(id='67772e38784f9bd8a66a5b126169d6c02a7f612d3b25d0d45d68ecde6578bc36', name='Computer Go', type='Node')),\n",
       "  Relation(node_1=Node(id='49c266baaaa70981ea188fa714d5c40cf13830d786a861c9943ae0d26a7f3fe9', name='Search', type='Node'), edge=Edge(id='9494e90ce9d1930f01b531a9e6496d14ec29cee4c83c3e37c6008bc55e02ffe6', name='was applied effectively at scale in', type='Edge'), node_2=Node(id='67772e38784f9bd8a66a5b126169d6c02a7f612d3b25d0d45d68ecde6578bc36', name='Computer Go', type='Node')),\n",
       "  Relation(node_1=Node(id='dfa0458b1b291c1a50b41b7150b45ff34d2928b53fed6385554a40731505398b', name='Learning by Self Play', type='Node'), edge=Edge(id='797c0b439f2e648f9d3ffbd2e51f2145552807e854a1961174e29b53040177ec', name='was used to', type='Edge'), node_2=Node(id='d816bfe22695d580301b64bda6c21834c9010a555d781f15e858fc512568771c', name='Learn a Value Function', type='Node')),\n",
       "  Relation(node_1=Node(id='dfa0458b1b291c1a50b41b7150b45ff34d2928b53fed6385554a40731505398b', name='Learning by Self Play', type='Node'), edge=Edge(id='886d6980b3a53e254ed0da20921ebc06ef674735d07209e35b250b6dc8209e50', name='is similar to', type='Edge'), node_2=Node(id='49c266baaaa70981ea188fa714d5c40cf13830d786a861c9943ae0d26a7f3fe9', name='Search', type='Node')),\n",
       "  Relation(node_1=Node(id='49c266baaaa70981ea188fa714d5c40cf13830d786a861c9943ae0d26a7f3fe9', name='Search', type='Node'), edge=Edge(id='80c8b1a63f3334455388c080f415b75bd6c13d000469cecfb35e86fb76258189', name='enables', type='Edge'), node_2=Node(id='ed679e9795201dcb9f27cc3845abc56c766b7049ed536019fb9189bc7dbb3c44', name='Massive Computation', type='Node')),\n",
       "  Relation(node_1=Node(id='8b45bb20e0775c30641210abeddb520ac385ae05e90bd6cbdcd8304a39f04623', name='Learning', type='Node'), edge=Edge(id='80c8b1a63f3334455388c080f415b75bd6c13d000469cecfb35e86fb76258189', name='enables', type='Edge'), node_2=Node(id='ed679e9795201dcb9f27cc3845abc56c766b7049ed536019fb9189bc7dbb3c44', name='Massive Computation', type='Node')),\n",
       "  Relation(node_1=Node(id='49c266baaaa70981ea188fa714d5c40cf13830d786a861c9943ae0d26a7f3fe9', name='Search', type='Node'), edge=Edge(id='22ece14026f6e0cb7867bc73f16c5d5446522b53031a0b8dd7e183083699aaa3', name='is a class of technique for', type='Edge'), node_2=Node(id='b33b1db682a20c6b26b03f8801ee6b0f18343af4726a61ffd7d2ed54f8eb92e9', name='Utilizing Massive Amounts of Computation', type='Node')),\n",
       "  Relation(node_1=Node(id='8b45bb20e0775c30641210abeddb520ac385ae05e90bd6cbdcd8304a39f04623', name='Learning', type='Node'), edge=Edge(id='22ece14026f6e0cb7867bc73f16c5d5446522b53031a0b8dd7e183083699aaa3', name='is a class of technique for', type='Edge'), node_2=Node(id='b33b1db682a20c6b26b03f8801ee6b0f18343af4726a61ffd7d2ed54f8eb92e9', name='Utilizing Massive Amounts of Computation', type='Node')),\n",
       "  Relation(node_1=Node(id='c52e9d0a2bbc615c4aed1d4b33752d16f986db417355e62b176c6398df32f7f2', name='Computer Chess', type='Node'), edge=Edge(id='886d6980b3a53e254ed0da20921ebc06ef674735d07209e35b250b6dc8209e50', name='is similar to', type='Edge'), node_2=Node(id='67772e38784f9bd8a66a5b126169d6c02a7f612d3b25d0d45d68ecde6578bc36', name='Computer Go', type='Node'))],\n",
       " [Relation(node_1=Node(id='90da48068c880fee021dc6197aa8c1a2bd22eb8451c316d293ed63777a136c25', name='Speech Recognition', type='Node'), edge=Edge(id='1762a5df7f03a0d1ed9376e0be0af0ddfecc6f4c271668a6e6db42a9c48f31b6', name='is a field of', type='Edge'), node_2=Node(id='b11715562f26ff15acd462701d4a427dbaae610f687fbdd3530581892ec5e1ac', name='Natural Language Processing', type='Node')),\n",
       "  Relation(node_1=Node(id='972a2890cb0bce38594f4c0a4a1fb2911bcc48e233219a3237112533b576a5c2', name='DARPA', type='Node'), edge=Edge(id='6515b6d50ca38996c52758cb4bf2137b83017e2c792c759c909f5b244a773bd9', name='sponsored', type='Edge'), node_2=Node(id='449303332f88997ae6389add7de42f361aa69068157b81b78327e111fc7f63b0', name='Competition', type='Node')),\n",
       "  Relation(node_1=Node(id='63158218a6b8ea29bfb465c263af15671f8198e16bb1605370e9480ea43e8f08', name='Human Knowledge', type='Node'), edge=Edge(id='a13a9c6f6e596957531b78a26c72265637e3b9786d8de305395a782923b831db', name='was used in', type='Edge'), node_2=Node(id='83db65dbd0e41c4af98a01548a742ad7ca0e31fe579b50a85d8c28c511338be6', name='Special Methods', type='Node')),\n",
       "  Relation(node_1=Node(id='a9856d4e2dcffbcee88eb3d737ff06cbd6344c8ceaa45802ec9fe51d5e3002cb', name='Statistical Methods', type='Node'), edge=Edge(id='1e29f8d30909e656281a4cb931dd5fd04d592b7a3950320a88c3b326f140a893', name='won over', type='Edge'), node_2=Node(id='d27cfe5beb29ee5cb73dca63695d816affe662756beba38f859c64c5bbaee025', name='Human-Knowledge-Based Methods', type='Node')),\n",
       "  Relation(node_1=Node(id='0a92c85fdb29d7d54a4a6a346c01b7a7b519c7cc2bb91843a1b5e841fe6caf7a', name='Hidden Markov Models (HMMs)', type='Node'), edge=Edge(id='3f4e1760934297671c0fe6ebfeedc89eb03aa816a76bd5698e0f3dff5b33e635', name='are a type of', type='Edge'), node_2=Node(id='a9856d4e2dcffbcee88eb3d737ff06cbd6344c8ceaa45802ec9fe51d5e3002cb', name='Statistical Methods', type='Node')),\n",
       "  Relation(node_1=Node(id='bcd41373249e305015545f00cf618a7d2d225e4368f8b360d753e469570e59a4', name='Deep Learning', type='Node'), edge=Edge(id='dba0450606f5c15c15e2403095389a73c3d01aaccddd71fd10c6926f7502da10', name='is a type of', type='Edge'), node_2=Node(id='a9856d4e2dcffbcee88eb3d737ff06cbd6344c8ceaa45802ec9fe51d5e3002cb', name='Statistical Methods', type='Node')),\n",
       "  Relation(node_1=Node(id='bcd41373249e305015545f00cf618a7d2d225e4368f8b360d753e469570e59a4', name='Deep Learning', type='Node'), edge=Edge(id='f480ffb2979d188849ef6ddeb7cefe0aec4406a459adc51df4808a3545d7095c', name='uses', type='Edge'), node_2=Node(id='aa1f17247d87bd510910e0655f6db47d0a85e3403376b284042371c554269743', name='Huge Training Sets', type='Node')),\n",
       "  Relation(node_1=Node(id='de7757d95832f91a8e8a071d3012d6bb8d6cfb7fd1a8aef974c599cf4bcf94f3', name='Researchers', type='Node'), edge=Edge(id='e0e1b6b6953a721b742e6ea1046979baf8526da21c5f1ebce878e223984d48fc', name='tried to make systems based on', type='Edge'), node_2=Node(id='daf0b5c4561878fa9bb176edb5c80dfd3cd555f777e95812a724cd2aab34d743', name='Their Own Minds', type='Node')),\n",
       "  Relation(node_1=Node(id='64a33131405f0d22dcafa90df969d1c23abddc10ce9755b3dd5ded1d039116ce', name=\"Moore's Law\", type='Node'), edge=Edge(id='fb9cf75606b4070dd6a9705810906bba28d0e2ea74ff301b999a91dbb68c7d98', name='enabled', type='Edge'), node_2=Node(id='ed679e9795201dcb9f27cc3845abc56c766b7049ed536019fb9189bc7dbb3c44', name='Massive Computation', type='Node'))],\n",
       " [Relation(node_1=Node(id='69dbf44b3d90e7faf94f5813c530bc1d12f22e773ce4e901c33a159c8682edfb', name='Computer Vision', type='Node'), edge=Edge(id='1a4e34034225e5c68459a4b960548502a404abf2f10a097065941925f3a377eb', name='is a field that uses', type='Edge'), node_2=Node(id='5c1ff6d1399024cc3cb4a69f846e2d657957a0c7c5ccfc8df10071baa22e8216', name='Deep-Learning Neural Networks', type='Node')),\n",
       "  Relation(node_1=Node(id='7994bf4fc3d7915ab55cd900620afab00c5e6c9c7ab8d4044b2259d89330dfa9', name='Early Methods', type='Node'), edge=Edge(id='de821dbccdf930bab85b43f3a171541c69206dfe04874e59a46d3edd125907cc', name='conceived of vision in terms of', type='Edge'), node_2=Node(id='658b158af9bde570fd7936f48d14af314d7a400afbc3a377157379b0eb6e6f41', name='Edges', type='Node')),\n",
       "  Relation(node_1=Node(id='7994bf4fc3d7915ab55cd900620afab00c5e6c9c7ab8d4044b2259d89330dfa9', name='Early Methods', type='Node'), edge=Edge(id='de821dbccdf930bab85b43f3a171541c69206dfe04874e59a46d3edd125907cc', name='conceived of vision in terms of', type='Edge'), node_2=Node(id='5dabf2b6f1cff85dd81fb39c04ffc9b3d0266fd9b24efc850c78ed60453dc01b', name='Generalized Cylinders', type='Node')),\n",
       "  Relation(node_1=Node(id='7994bf4fc3d7915ab55cd900620afab00c5e6c9c7ab8d4044b2259d89330dfa9', name='Early Methods', type='Node'), edge=Edge(id='de821dbccdf930bab85b43f3a171541c69206dfe04874e59a46d3edd125907cc', name='conceived of vision in terms of', type='Edge'), node_2=Node(id='366e2ba7064d699996a59c8d156e4234b5e843722b3a55d406ae93afbc230e3c', name='SIFT Features', type='Node')),\n",
       "  Relation(node_1=Node(id='01f3cb9b857e57e70ffeee91cc3151f504afa2f11d43f531f65fe183877e0a14', name='Modern Deep-Learning Neural Networks', type='Node'), edge=Edge(id='a3b142af6e97cfc3bb23e409ab83467af7d16ded7dc0632be6a6a9023e49ce8b', name='use', type='Edge'), node_2=Node(id='abe1467b3976874f6a3ba0549d13090f903f0a247b6fbfbe977cb1771d9e94b3', name='Convolution', type='Node')),\n",
       "  Relation(node_1=Node(id='01f3cb9b857e57e70ffeee91cc3151f504afa2f11d43f531f65fe183877e0a14', name='Modern Deep-Learning Neural Networks', type='Node'), edge=Edge(id='a3b142af6e97cfc3bb23e409ab83467af7d16ded7dc0632be6a6a9023e49ce8b', name='use', type='Edge'), node_2=Node(id='6c0df0615a7396aff6760d8084829fc01e72167da0bc43740e19bacfed2070ae', name='Invariances', type='Node'))],\n",
       " [Relation(node_1=Node(id='45e8f94ceacdcb34438a89cbb5335f6a54114f27c9f5da64545e486f6cf29107', name='AI Researchers', type='Node'), edge=Edge(id='1f60134435a1b7272163b8f06c265f2fb19c505c927b8679ad45accfcac07ad0', name='make mistakes', type='Edge'), node_2=Node(id='0079708aa0a9898ab401a6c185feb939412b4e89b907ae750c066dab21d0c1be', name='Mistakes', type='Node')),\n",
       "  Relation(node_1=Node(id='79b8bd7b9d2f71d4da7e3e7fcf37cbae7b9aac640875f61d33f8f9ec857563bd', name='Building Knowledge', type='Node'), edge=Edge(id='cb21134dc4c8512953b5b8ed5dce7a721a3574405935cc2c1725f616fe1016ca', name='does not work', type='Edge'), node_2=Node(id='d4fd5e019af332374afc657d21d43b167b5e77edd7a5882a4cd4ecb70b012d71', name='Long Run', type='Node')),\n",
       "  Relation(node_1=Node(id='b7ddbbac4966b0fbaa64a7f52d6a6dc37c83eb779809abe3b587cd22b56101fa', name='Short Term', type='Node'), edge=Edge(id='68894c5f9e0560afe1d305b18e4dcac5d7f460d74f7f40adbb7bb16c7f6fbd44', name='helps', type='Edge'), node_2=Node(id='79b8bd7b9d2f71d4da7e3e7fcf37cbae7b9aac640875f61d33f8f9ec857563bd', name='Building Knowledge', type='Node')),\n",
       "  Relation(node_1=Node(id='eeea93a4ea58f75b326681228d16712e16f2c2cf696b33e35332d58f871a40af', name='Scaling Computation', type='Node'), edge=Edge(id='b64ba7f2e1899e5319515e4a45a10db7e8aee1c2fb3450eeaf1ca6ef6275ca95', name='leads to', type='Edge'), node_2=Node(id='7b0444c37d7d3d4f8ab07b051ae3dbf4352383dfc12c936956d5a5283ba4ed0f', name='Breakthrough Progress', type='Node')),\n",
       "  Relation(node_1=Node(id='7b0444c37d7d3d4f8ab07b051ae3dbf4352383dfc12c936956d5a5283ba4ed0f', name='Breakthrough Progress', type='Node'), edge=Edge(id='091d313a1a6950702d771210f465f4712a64460b076e53a6a5b4b1836095285f', name='is tinged with', type='Edge'), node_2=Node(id='d36a54f38be4081b5d3c377245508d0e5537315be14920e4537362f567e3fb15', name='Bitterness', type='Node')),\n",
       "  Relation(node_1=Node(id='a14e4af4775bd328f8e0335fea08d48baab06572ba0af68ba60f1a0e402c6282', name='Human-Centric Approach', type='Node'), edge=Edge(id='04e29df1dc5884df5b3379e4e39ec8a5e916dc3d842be7f33ab95d1f2dba38d8', name='is opposed to', type='Edge'), node_2=Node(id='eeea93a4ea58f75b326681228d16712e16f2c2cf696b33e35332d58f871a40af', name='Scaling Computation', type='Node')),\n",
       "  Relation(node_1=Node(id='f6f2d05604d37d2c43ff0e6fb88d63541ee666996ff7a81e6c575b4ebc77d622', name='The Bitter Lesson', type='Node'), edge=Edge(id='a9c9dae91213c7e4d5eb25c0825179d8431746a61cc8b0d8843dc32d53322295', name='is based on', type='Edge'), node_2=Node(id='907406fc16d789182e1d9300507accff692c0b8f65c281f4594db3e57892b4ea', name='Historical Observations', type='Node'))],\n",
       " [Relation(node_1=Node(id='787036d0ef8f99bad6549e1200a8eaee24db50b9844dcee9a0d642ca8fce4afe', name='bitter lesson', type='Node'), edge=Edge(id='1c74bef5d9bf50296f9c6dcebae735bd5ff23f8a4b15975dcba41a4fca7a3e4f', name='is learned from', type='Edge'), node_2=Node(id='85e5ce2a20460bde95fdb31d5fd34ffb212775c64f2509b821ea99c07f90a0a6', name='great power of general purpose methods', type='Node')),\n",
       "  Relation(node_1=Node(id='447fa7e6e74a30f948c739b5a2938019968d4ce3d663161507d309ad41612a5a', name='general purpose methods', type='Node'), edge=Edge(id='810cac3535c9f89ca448c484a1f0baeaf2f273c1be9c436df1ca1e5d664ebe42', name='scale with', type='Edge'), node_2=Node(id='c9cf4bf05d2774bfa3661edf5ebcfaae535716f7e503dcd590f4332254314a22', name='increased computation', type='Node')),\n",
       "  Relation(node_1=Node(id='2419329067823cab5b4e5ac5dd18a6abf1f57f45e753f5fc934292f3085a3717', name='search', type='Node'), edge=Edge(id='de22be2b14d151521f4f749c93d9afb780dd5acf9dc3e4d3cb65d5a51c64312f', name='scale arbitrarily', type='Edge'), node_2=Node(id='d4115c5d440cc736afd4cb71dee68319f1f9ca262ac86d6c66b480de2e5f74ff', name='available computation', type='Node')),\n",
       "  Relation(node_1=Node(id='edd95740e339e6aa0a1dab45741b0521185680b051631a7c265b5630da4f2158', name='learning', type='Node'), edge=Edge(id='de22be2b14d151521f4f749c93d9afb780dd5acf9dc3e4d3cb65d5a51c64312f', name='scale arbitrarily', type='Edge'), node_2=Node(id='d4115c5d440cc736afd4cb71dee68319f1f9ca262ac86d6c66b480de2e5f74ff', name='available computation', type='Node'))],\n",
       " [Relation(node_1=Node(id='8dbf45f04541c2a50495e19689fcd7956c7771220ae3c9cab8f225b435533d1f', name='Minds', type='Node'), edge=Edge(id='df3b929e5eb6aea5e9058f46ebf193f87e528d5c22fa094039d26a1e923c32f2', name='have complex contents', type='Edge'), node_2=Node(id='2dcf78dcabca38ef0498d4e991bda2c39f8445f5b1db2f89c87759f713f2e42e', name='Complexity', type='Node')),\n",
       "  Relation(node_1=Node(id='20eac5aae274985fd88629d19eddccbbec21dacd82a8c7a7dd99661f2135be02', name='Space', type='Node'), edge=Edge(id='a9f156b099f1d280002f33310890cd056eee91c1e417ddf930de1cf229102db7', name='is part of', type='Edge'), node_2=Node(id='84ac18b92d336b1cffa3a49acfd2f73c3d4f441417f5c4658776c0e22948f92e', name='Outside World', type='Node')),\n",
       "  Relation(node_1=Node(id='de5236ee1561d9d4123d1a8dad5442710ac2acdc26111be2076d9b8ddf453650', name='Objects', type='Node'), edge=Edge(id='4717fc7744a61c52f129c55b4b2336ee62695986743f91c8d15486def121864a', name='are part of', type='Edge'), node_2=Node(id='84ac18b92d336b1cffa3a49acfd2f73c3d4f441417f5c4658776c0e22948f92e', name='Outside World', type='Node')),\n",
       "  Relation(node_1=Node(id='f5df9e6273b86a1b7a08ea02a149d4caf05615451204495ac2f1454dcd4c2a52', name='Multiple Agents', type='Node'), edge=Edge(id='4717fc7744a61c52f129c55b4b2336ee62695986743f91c8d15486def121864a', name='are part of', type='Edge'), node_2=Node(id='84ac18b92d336b1cffa3a49acfd2f73c3d4f441417f5c4658776c0e22948f92e', name='Outside World', type='Node')),\n",
       "  Relation(node_1=Node(id='9b4a1aebdb63e12e672126bf9de18d3106507f61edf36227d4e1c2403f07893d', name='Symmetries', type='Node'), edge=Edge(id='4717fc7744a61c52f129c55b4b2336ee62695986743f91c8d15486def121864a', name='are part of', type='Edge'), node_2=Node(id='84ac18b92d336b1cffa3a49acfd2f73c3d4f441417f5c4658776c0e22948f92e', name='Outside World', type='Node')),\n",
       "  Relation(node_1=Node(id='a571112dd1b9e6b6dc4879bbb945ed7e5996c7805b80a5095d9442b209a222fe', name='Meta-Methods', type='Node'), edge=Edge(id='b8f7664a3036e77d9c1427882197837f61128a4f604aa1c3baf81eb9776da3b5', name='can find and capture', type='Edge'), node_2=Node(id='2dcf78dcabca38ef0498d4e991bda2c39f8445f5b1db2f89c87759f713f2e42e', name='Complexity', type='Node')),\n",
       "  Relation(node_1=Node(id='d591a7cb7e700672a854ef44e0ec7bfa06cdddaa3f5b530240ec9596cf15d241', name='AI Agents', type='Node'), edge=Edge(id='98caf1ddea6f76ea4a0e970153e09d78578b08a60c82f620ba79ff87e7137a7c', name='should discover like humans', type='Edge'), node_2=Node(id='b370fddfc712a78b684f9ef5b615cc7f5004356b5d1efda045a1546344726809', name='Humans', type='Node')),\n",
       "  Relation(node_1=Node(id='df153402cb2f2be9b2b84a59cc11b30882cac5952758abbe42278d3429366707', name='Discovering Process', type='Node'), edge=Edge(id='17c3344d683b5ff59f4f4ab1f231c183dfc89e08053c481c328af4f49c7f404f', name='should be done by', type='Edge'), node_2=Node(id='a571112dd1b9e6b6dc4879bbb945ed7e5996c7805b80a5095d9442b209a222fe', name='Meta-Methods', type='Node'))]]"
      ]
     },
     "execution_count": 5,
     "metadata": {},
     "output_type": "execute_result"
    }
   ],
   "source": [
    "list(graph.extract_relations(documents, stream=True))"
   ]
  },
  {
   "cell_type": "code",
   "execution_count": 8,
   "metadata": {},
   "outputs": [
    {
     "data": {
      "text/plain": [
       "'7c0967e9-39e6-4e5d-af17-6a94312bc01a'"
      ]
     },
     "execution_count": 8,
     "metadata": {},
     "output_type": "execute_result"
    }
   ],
   "source": [
    "import uuid\n",
    "\n",
    "str(uuid.uuid4())"
   ]
  },
  {
   "cell_type": "code",
   "execution_count": null,
   "metadata": {},
   "outputs": [],
   "source": []
  }
 ],
 "metadata": {
  "kernelspec": {
   "display_name": "local-ai",
   "language": "python",
   "name": "python3"
  },
  "language_info": {
   "codemirror_mode": {
    "name": "ipython",
    "version": 3
   },
   "file_extension": ".py",
   "mimetype": "text/x-python",
   "name": "python",
   "nbconvert_exporter": "python",
   "pygments_lexer": "ipython3",
   "version": "3.10.14"
  }
 },
 "nbformat": 4,
 "nbformat_minor": 2
}
