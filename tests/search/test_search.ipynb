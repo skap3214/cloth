{
 "cells": [
  {
   "cell_type": "code",
   "execution_count": 1,
   "metadata": {},
   "outputs": [],
   "source": [
    "import sys\n",
    "sys.path.append(\"../..\")\n",
    "from cloth.neo4j_graph import Neo4jGraphstore\n",
    "\n",
    "graph = Neo4jGraphstore(persist_directory=\"/Users/soami/Desktop/coding/projects/cloth/tests/search/local/vectorstore\")"
   ]
  },
  {
   "cell_type": "code",
   "execution_count": 3,
   "metadata": {},
   "outputs": [
    {
     "name": "stdout",
     "output_type": "stream",
     "text": [
      "Start Node: Early Methods\n",
      "End Node: Convolution\n",
      "Nodes in Path: [{'name': 'Early Methods', 'labels': ['Node']}, {'name': 'Modern Deep-Learning Neural Networks', 'labels': ['Node']}, {'name': 'Convolution', 'labels': ['Node']}]\n",
      "Relationships in Path: [{'type': 'Edge', 'start_node': 'Early Methods', 'end_node': 'Modern Deep-Learning Neural Networks', 'properties': {'name': 'have been discarded in favor of', 'document_id': '81b1e10e34c5ad14eb3d486e5bcd1fd5b204bdf1536926682e462b913e18eba1'}}, {'type': 'Edge', 'start_node': 'Modern Deep-Learning Neural Networks', 'end_node': 'Convolution', 'properties': {'name': 'use the notions of', 'document_id': '81b1e10e34c5ad14eb3d486e5bcd1fd5b204bdf1536926682e462b913e18eba1'}}]\n"
     ]
    }
   ],
   "source": [
    "start_node = \"Early Methods\"\n",
    "end_node = \"Convolution\"\n",
    "max_depth = 3\n",
    "paths = graph.find_paths(start_node, end_node, max_depth)\n",
    "for path in paths:\n",
    "    print(\"Start Node:\", path['start_node'])\n",
    "    print(\"End Node:\", path['end_node'])\n",
    "    print(\"Nodes in Path:\", path['nodes'])\n",
    "    print(\"Relationships in Path:\", path['relationships'])"
   ]
  },
  {
   "cell_type": "code",
   "execution_count": null,
   "metadata": {},
   "outputs": [],
   "source": []
  },
  {
   "cell_type": "code",
   "execution_count": null,
   "metadata": {},
   "outputs": [],
   "source": []
  }
 ],
 "metadata": {
  "kernelspec": {
   "display_name": "local-ai",
   "language": "python",
   "name": "python3"
  },
  "language_info": {
   "codemirror_mode": {
    "name": "ipython",
    "version": 3
   },
   "file_extension": ".py",
   "mimetype": "text/x-python",
   "name": "python",
   "nbconvert_exporter": "python",
   "pygments_lexer": "ipython3",
   "version": "3.10.14"
  }
 },
 "nbformat": 4,
 "nbformat_minor": 2
}
